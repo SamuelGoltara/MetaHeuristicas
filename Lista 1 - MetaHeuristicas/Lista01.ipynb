{
 "cells": [
  {
   "cell_type": "markdown",
   "metadata": {},
   "source": [
    "7. Leia uma velocidade em km/h (quilômetros por hora) e apresente-a em m/s (metros por segundo). A fórmula de conversão é: m = k/3.6"
   ]
  },
  {
   "cell_type": "code",
   "execution_count": 7,
   "metadata": {},
   "outputs": [
    {
     "name": "stdout",
     "output_type": "stream",
     "text": [
      "72 km/h equivale(m) a: 20.0 m/s\n"
     ]
    }
   ],
   "source": [
    "x = int(input(\"Digite uma velocidade em km/h:\"))\n",
    "print(x,\"km/h equivale(m) a:\",(x/3.6), \"m/s\")"
   ]
  },
  {
   "cell_type": "markdown",
   "metadata": {},
   "source": [
    "\n",
    "8. Leia um ângulo em graus e apresente-o convertido em radianos (R = G * π/180.0)."
   ]
  },
  {
   "cell_type": "code",
   "execution_count": 8,
   "metadata": {},
   "outputs": [
    {
     "name": "stdout",
     "output_type": "stream",
     "text": [
      "Este ângulo em radianos eh: 1.57\n"
     ]
    }
   ],
   "source": [
    "x = int(input(\"Digite um ângulo em graus:\"))\n",
    "y = (x*3.14)/(180.0)\n",
    "print(\"Este ângulo em radianos eh:\",y)"
   ]
  },
  {
   "cell_type": "markdown",
   "metadata": {},
   "source": [
    "9. Leia quatro notas de um aluno, calcule a média aritmética e imprima o resultado."
   ]
  },
  {
   "cell_type": "code",
   "execution_count": 9,
   "metadata": {},
   "outputs": [
    {
     "name": "stdout",
     "output_type": "stream",
     "text": [
      "A média aritmética das notas eh: 4.25\n"
     ]
    }
   ],
   "source": [
    "# Solicita ao usuário as quatro notas\n",
    "nota1 = float(input(\"Digite a primeira nota: \"))\n",
    "nota2 = float(input(\"Digite a segunda nota: \"))\n",
    "nota3 = float(input(\"Digite a terceira nota: \"))\n",
    "nota4 = float(input(\"Digite a quarta nota: \"))\n",
    "\n",
    "# Apresenta o resultado da média\n",
    "print(f\"A média aritmética das notas eh:\", (nota1 + nota2 + nota3 + nota4) / 4)"
   ]
  },
  {
   "cell_type": "markdown",
   "metadata": {},
   "source": [
    "\n",
    "10.Leia um valor em real (R$) e a cotação do dólar, e imprima a conversão do valor real em dólar."
   ]
  },
  {
   "cell_type": "code",
   "execution_count": 12,
   "metadata": {},
   "outputs": [
    {
     "name": "stdout",
     "output_type": "stream",
     "text": [
      "\n",
      " 25.0 reais segundo a cotação do dolar digitada equivale(m) a 5.0 dolar(es)\n"
     ]
    }
   ],
   "source": [
    "real = float(input(\"\\nDigite um valor em reais: \"))\n",
    "\n",
    "cotacao = float(input(\"\\nDigite a cotacao atual do dolar: \"))\n",
    "\n",
    "print(\"\\n\",real, \"reais segundo a cotação do dolar digitada equivale(m) a\", (real/cotacao), \"dolar(es)\")"
   ]
  },
  {
   "cell_type": "markdown",
   "metadata": {},
   "source": [
    "11.Um encanador fornece seus serviços por uma taxa fixa de R$ 80,00 pela visita inicial para análise do serviço mais R$ 55,00 por cada dia de trabalho necessário para executar o serviço. Faça um programa que pergunte quantos dias de trabalho o encanador terá e informe quanto ele vai receber no total."
   ]
  },
  {
   "cell_type": "code",
   "execution_count": 13,
   "metadata": {},
   "outputs": [
    {
     "name": "stdout",
     "output_type": "stream",
     "text": [
      "\n",
      "Considerando uma taxa fixa de R$80 + R$55 por dia trabalhado, o custo do serviço será de: 850.0 reais\n"
     ]
    }
   ],
   "source": [
    "dias = float(input(\"\\nDigite quantos dias serão trabalhados: \"))\n",
    "\n",
    "print(\"\\nConsiderando uma taxa fixa de R$80 + R$55 por dia trabalhado, o custo do serviço será de:\", 80+55*dias, \"reais\")"
   ]
  },
  {
   "cell_type": "markdown",
   "metadata": {},
   "source": [
    "12.Leia o valor de um produto, e informe o valor com um desconto de 12%."
   ]
  },
  {
   "cell_type": "code",
   "execution_count": 14,
   "metadata": {},
   "outputs": [
    {
     "name": "stdout",
     "output_type": "stream",
     "text": [
      "\n",
      "Este produto com 12% de desconto custa: 35.2 reais\n"
     ]
    }
   ],
   "source": [
    "desconto = float(input(\"\\nDigite o valor do produto em reais: \"))\n",
    "\n",
    "print(\"\\nEste produto com 12% de desconto custa:\", 0.88*desconto, \"reais\")"
   ]
  },
  {
   "cell_type": "markdown",
   "metadata": {},
   "source": [
    "13.Leia o salário de um funcionário e informe o valor do salário com um aumento de 25%."
   ]
  },
  {
   "cell_type": "code",
   "execution_count": 15,
   "metadata": {},
   "outputs": [
    {
     "name": "stdout",
     "output_type": "stream",
     "text": [
      "\n",
      "Este salário com um aumento de 25% eh: 1250.0 reais\n"
     ]
    }
   ],
   "source": [
    "salario = float(input(\"\\nDigite seu salário em reais: \"))\n",
    "\n",
    "print(\"\\nEste salário com um aumento de 25% eh:\", 1.25*salario, \"reais\")"
   ]
  },
  {
   "cell_type": "markdown",
   "metadata": {},
   "source": [
    "14.A importância de R$ 780.000,00 será dividida entre três ganhadores de um concurso. Sendo que da quantia total:\n",
    "\n",
    "a. O primeiro ganhador receberá 46%;\n",
    "\n",
    "b. O segundo receberá 32%;\n",
    "\n",
    "c. O terceiro receberá o restante;\n",
    "\n",
    "Calcule e imprima a quantia ganha por cada um dos ganhadores."
   ]
  },
  {
   "cell_type": "code",
   "execution_count": 16,
   "metadata": {},
   "outputs": [
    {
     "name": "stdout",
     "output_type": "stream",
     "text": [
      "\n",
      "O primeiro ganhador receberá 46% do prêmio, logo: 20.7  mil reais\n",
      "\n",
      "O segundo ganhador receberá 32% do prêmio, logo: 14.4 mil reais\n",
      "\n",
      "O último ganhador receberá o restante do prêmio, logo: 9.90 mil reais\n"
     ]
    }
   ],
   "source": [
    "total = float(input(\"\\nDigite o valor do prêmio em milhares de reais:\"))\n",
    "\n",
    "print(\"\\nO primeiro ganhador receberá 46% do prêmio, logo:\",total*0.46, \" mil reais\")\n",
    "\n",
    "print(\"\\nO segundo ganhador receberá 32% do prêmio, logo:\",total*0.32, \"mil reais\")\n",
    "\n",
    "print(\"\\nO último ganhador receberá o restante do prêmio, logo: %.2f\" %(total*(1-0.46-0.32)), \"mil reais\")"
   ]
  },
  {
   "cell_type": "markdown",
   "metadata": {},
   "source": [
    "15.Receba o salário-base de um funcionário. Calcule e imprima o salário a receber, sabendo-se que este funcionário tem uma gratificação de 5% sobre o salário-base. Além disso, ele paga 7% de imposto sobre o salário-base."
   ]
  },
  {
   "cell_type": "code",
   "execution_count": 17,
   "metadata": {},
   "outputs": [
    {
     "name": "stdout",
     "output_type": "stream",
     "text": [
      "\n",
      "Este salário considerando gratificação de 5% e desconto de 7% de imposto será de: 980.0 reais\n"
     ]
    }
   ],
   "source": [
    "salario = float(input(\"\\nDigite seu salário base em reais:\"))\n",
    "\n",
    "print(\"\\nEste salário considerando gratificação de 5% e desconto de 7% de imposto será de:\", salario*(1-0.07+0.05), \"reais\")"
   ]
  },
  {
   "cell_type": "markdown",
   "metadata": {},
   "source": [
    "16.Escreva um programa de ajuda para vendedores. A partir de um total lido, mostre:\n",
    "\n",
    "a. o total a pagar com desconto de 10%.\n",
    "\n",
    "b. o valor de cada parcela no parcelamento de 3x sem juros.\n",
    "\n",
    "c. a comissão do vendedor, no caso da venda à vista (5% sobre o valor com desconto).\n",
    "\n",
    "d. a comissão do vendedor, no caso da venda ser parcelada (5% sobre o valor total)."
   ]
  },
  {
   "cell_type": "code",
   "execution_count": 19,
   "metadata": {},
   "outputs": [
    {
     "name": "stdout",
     "output_type": "stream",
     "text": [
      "\n",
      "O total a pagar com desconto de 10% será de: 1350.0 reais\n",
      "\n",
      "Caso o valor a pagar seja dividido em 3x sem juros, cada parcela custará: 500.0 reais\n",
      "\n",
      "Caso a venda seja à vista, o vendedor terá comissão de 5% no valor de: 67.5 reais\n",
      "\n",
      "Caso a venda seja parcelada, o vendedor terá comissão de 5% no valor de: 75.0 reais\n"
     ]
    }
   ],
   "source": [
    "total = float(input(\"\\nDigite o total vendido em reais:\"))\n",
    "\n",
    "print(\"\\nO total a pagar com desconto de 10% será de:\", total*0.9, \"reais\")\n",
    "print(\"\\nCaso o valor a pagar seja dividido em 3x sem juros, cada parcela custará:\", total/3, \"reais\")\n",
    "print(\"\\nCaso a venda seja à vista, o vendedor terá comissão de 5% no valor de:\", (total*0.9)*0.05, \"reais\")\n",
    "print(\"\\nCaso a venda seja parcelada, o vendedor terá comissão de 5% no valor de:\", total*0.05, \"reais\")"
   ]
  }
 ],
 "metadata": {
  "kernelspec": {
   "display_name": "base",
   "language": "python",
   "name": "python3"
  },
  "language_info": {
   "codemirror_mode": {
    "name": "ipython",
    "version": 3
   },
   "file_extension": ".py",
   "mimetype": "text/x-python",
   "name": "python",
   "nbconvert_exporter": "python",
   "pygments_lexer": "ipython3",
   "version": "3.8.5"
  },
  "orig_nbformat": 4
 },
 "nbformat": 4,
 "nbformat_minor": 2
}
